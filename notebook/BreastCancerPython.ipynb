{
 "cells": [
  {
   "cell_type": "markdown",
   "id": "e68b645c",
   "metadata": {},
   "source": [
    "# Initialising the environment\n",
    "\n",
    "First we set up the environment:"
   ]
  },
  {
   "cell_type": "code",
   "execution_count": 1,
   "id": "d3bcb3ab",
   "metadata": {},
   "outputs": [],
   "source": [
    "import matplotlib.pyplot as plt\n",
    "import numpy as np\n",
    "import pandas as pd\n",
    "from sklearn.preprocessing import LabelEncoder\n",
    "from sklearn.model_selection import train_test_split\n",
    "from sklearn.neighbors import KNeighborsClassifier\n",
    "from sklearn import metrics\n",
    "from sklearn.tree import DecisionTreeClassifier\n",
    "from sklearn.linear_model import LogisticRegression\n",
    "from sklearn import svm\n",
    "from sklearn.ensemble import RandomForestClassifier\n",
    "from sklearn.model_selection import GridSearchCV\n",
    "from scipy import stats"
   ]
  },
  {
   "cell_type": "markdown",
   "id": "0a44d5e9",
   "metadata": {},
   "source": [
    "Next we read the data. The data comes from the UCI repository. The data set contains information about breast cancer patients. The variable that we are trying to predict is whether there will be recurrence or not. These are the variables in the data set:\n",
    "\n",
    "* Class: no-recurrence-events, recurrence-events\n",
    "* age: 10-19, 20-29, 30-39, 40-49, 50-59, 60-69, 70-79, 80-89, 90-99.\n",
    "* menopause: lt40, ge40, premeno.\n",
    "* tumor-size: 0-4, 5-9, 10-14, 15-19, 20-24, 25-29, 30-34, 35-39, 40-44, 45-49, 50-54, 55-59.\n",
    "* inv-nodes: 0-2, 3-5, 6-8, 9-11, 12-14, 15-17, 18-20, 21-23, 24-26, 27-29, 30-32, 33-35, 36-39.\n",
    "* node-caps: yes, no.\n",
    "* deg-malig: 1, 2, 3.\n",
    "* breast: left, right.\n",
    "* breast-quad: left-up, left-low, right-up, right-low, central.\n",
    "* irradiat: yes, no.\n",
    "\n",
    "We download the data set and name the columns:\n"
   ]
  },
  {
   "cell_type": "code",
   "execution_count": 2,
   "id": "9e4c8796",
   "metadata": {},
   "outputs": [],
   "source": [
    "df = pd.read_csv(\"https://archive.ics.uci.edu/ml/machine-learning-databases/breast-cancer/breast-cancer.data\",\n",
    "                 header=None)\n",
    "# label columns\n",
    "df.columns = [\"class\", \"age\", \"menopause\", \"tumor_size\",\n",
    "                    \"inv_nodes\", \"node_caps\", \"deg_malig\",\n",
    "                    \"breast\", \"breast_quad\", \"irradiat\"]"
   ]
  },
  {
   "cell_type": "markdown",
   "id": "f2072d60",
   "metadata": {},
   "source": [
    "# Cleaning the data\n",
    "\n",
    "We check for missing values:"
   ]
  },
  {
   "cell_type": "code",
   "execution_count": 3,
   "id": "8ea06061",
   "metadata": {},
   "outputs": [
    {
     "data": {
      "text/plain": [
       "class          0\n",
       "age            0\n",
       "menopause      0\n",
       "tumor_size     0\n",
       "inv_nodes      0\n",
       "node_caps      0\n",
       "deg_malig      0\n",
       "breast         0\n",
       "breast_quad    0\n",
       "irradiat       0\n",
       "dtype: int64"
      ]
     },
     "execution_count": 3,
     "metadata": {},
     "output_type": "execute_result"
    }
   ],
   "source": [
    "df.isnull().sum()"
   ]
  },
  {
   "cell_type": "markdown",
   "id": "fdced3eb",
   "metadata": {},
   "source": [
    "Look at the types of the columns:"
   ]
  },
  {
   "cell_type": "code",
   "execution_count": 4,
   "id": "c42e84a8",
   "metadata": {},
   "outputs": [
    {
     "name": "stdout",
     "output_type": "stream",
     "text": [
      "<class 'pandas.core.frame.DataFrame'>\n",
      "RangeIndex: 286 entries, 0 to 285\n",
      "Data columns (total 10 columns):\n",
      " #   Column       Non-Null Count  Dtype \n",
      "---  ------       --------------  ----- \n",
      " 0   class        286 non-null    object\n",
      " 1   age          286 non-null    object\n",
      " 2   menopause    286 non-null    object\n",
      " 3   tumor_size   286 non-null    object\n",
      " 4   inv_nodes    286 non-null    object\n",
      " 5   node_caps    286 non-null    object\n",
      " 6   deg_malig    286 non-null    int64 \n",
      " 7   breast       286 non-null    object\n",
      " 8   breast_quad  286 non-null    object\n",
      " 9   irradiat     286 non-null    object\n",
      "dtypes: int64(1), object(9)\n",
      "memory usage: 22.5+ KB\n"
     ]
    }
   ],
   "source": [
    "df.info()"
   ]
  },
  {
   "cell_type": "markdown",
   "id": "99991f61",
   "metadata": {},
   "source": [
    "Let us look at the values of the object variables:"
   ]
  },
  {
   "cell_type": "code",
   "execution_count": 5,
   "id": "4a3a661e",
   "metadata": {},
   "outputs": [
    {
     "data": {
      "text/plain": [
       "no-recurrence-events    201\n",
       "recurrence-events        85\n",
       "Name: class, dtype: int64"
      ]
     },
     "execution_count": 5,
     "metadata": {},
     "output_type": "execute_result"
    }
   ],
   "source": [
    "df[\"class\"].value_counts()"
   ]
  },
  {
   "cell_type": "code",
   "execution_count": 6,
   "id": "90364996",
   "metadata": {},
   "outputs": [
    {
     "data": {
      "text/plain": [
       "50-59    96\n",
       "40-49    90\n",
       "60-69    57\n",
       "30-39    36\n",
       "70-79     6\n",
       "20-29     1\n",
       "Name: age, dtype: int64"
      ]
     },
     "execution_count": 6,
     "metadata": {},
     "output_type": "execute_result"
    }
   ],
   "source": [
    "df[\"age\"].value_counts()"
   ]
  },
  {
   "cell_type": "code",
   "execution_count": 7,
   "id": "353768e5",
   "metadata": {},
   "outputs": [
    {
     "data": {
      "text/plain": [
       "30-34    60\n",
       "25-29    54\n",
       "20-24    50\n",
       "15-19    30\n",
       "10-14    28\n",
       "40-44    22\n",
       "35-39    19\n",
       "0-4       8\n",
       "50-54     8\n",
       "5-9       4\n",
       "45-49     3\n",
       "Name: tumor_size, dtype: int64"
      ]
     },
     "execution_count": 7,
     "metadata": {},
     "output_type": "execute_result"
    }
   ],
   "source": [
    "df[\"tumor_size\"].value_counts()"
   ]
  },
  {
   "cell_type": "code",
   "execution_count": 8,
   "id": "891d7ae1",
   "metadata": {},
   "outputs": [
    {
     "data": {
      "text/plain": [
       "0-2      213\n",
       "3-5       36\n",
       "6-8       17\n",
       "9-11      10\n",
       "15-17      6\n",
       "12-14      3\n",
       "24-26      1\n",
       "Name: inv_nodes, dtype: int64"
      ]
     },
     "execution_count": 8,
     "metadata": {},
     "output_type": "execute_result"
    }
   ],
   "source": [
    "df[\"inv_nodes\"].value_counts()"
   ]
  },
  {
   "cell_type": "code",
   "execution_count": 9,
   "id": "078ef711",
   "metadata": {},
   "outputs": [
    {
     "data": {
      "text/plain": [
       "premeno    150\n",
       "ge40       129\n",
       "lt40         7\n",
       "Name: menopause, dtype: int64"
      ]
     },
     "execution_count": 9,
     "metadata": {},
     "output_type": "execute_result"
    }
   ],
   "source": [
    "df[\"menopause\"].value_counts()"
   ]
  },
  {
   "cell_type": "code",
   "execution_count": 10,
   "id": "f11c1219",
   "metadata": {},
   "outputs": [
    {
     "data": {
      "text/plain": [
       "no     222\n",
       "yes     56\n",
       "?        8\n",
       "Name: node_caps, dtype: int64"
      ]
     },
     "execution_count": 10,
     "metadata": {},
     "output_type": "execute_result"
    }
   ],
   "source": [
    "df[\"node_caps\"].value_counts()"
   ]
  },
  {
   "cell_type": "code",
   "execution_count": 11,
   "id": "1785ed94",
   "metadata": {},
   "outputs": [
    {
     "data": {
      "text/plain": [
       "left     152\n",
       "right    134\n",
       "Name: breast, dtype: int64"
      ]
     },
     "execution_count": 11,
     "metadata": {},
     "output_type": "execute_result"
    }
   ],
   "source": [
    "df[\"breast\"].value_counts()"
   ]
  },
  {
   "cell_type": "code",
   "execution_count": 12,
   "id": "0d5066cc",
   "metadata": {},
   "outputs": [
    {
     "data": {
      "text/plain": [
       "no     218\n",
       "yes     68\n",
       "Name: irradiat, dtype: int64"
      ]
     },
     "execution_count": 12,
     "metadata": {},
     "output_type": "execute_result"
    }
   ],
   "source": [
    "df[\"irradiat\"].value_counts()"
   ]
  },
  {
   "cell_type": "code",
   "execution_count": 13,
   "id": "009bfe07",
   "metadata": {},
   "outputs": [
    {
     "data": {
      "text/plain": [
       "left_low     110\n",
       "left_up       97\n",
       "right_up      33\n",
       "right_low     24\n",
       "central       21\n",
       "?              1\n",
       "Name: breast_quad, dtype: int64"
      ]
     },
     "execution_count": 13,
     "metadata": {},
     "output_type": "execute_result"
    }
   ],
   "source": [
    "df[\"breast_quad\"].value_counts()"
   ]
  },
  {
   "cell_type": "markdown",
   "id": "e1ac3562",
   "metadata": {},
   "source": [
    "We note that in somce cases there are question marks. We should treat them like missing values:"
   ]
  },
  {
   "cell_type": "code",
   "execution_count": 14,
   "id": "80ff0fce",
   "metadata": {},
   "outputs": [],
   "source": [
    "df.replace(\"?\", np.nan, inplace=True)\n",
    "df.isnull().sum()\n",
    "# now we have nan values. drop these observations\n",
    "df.dropna(inplace=True)"
   ]
  },
  {
   "cell_type": "markdown",
   "id": "a48506ed",
   "metadata": {},
   "source": [
    "# Visualizing the data\n",
    "\n",
    "Let us plot a figure that will help visualise the distribution of both classes in each group of the categorical variables:"
   ]
  },
  {
   "cell_type": "code",
   "execution_count": 15,
   "id": "bdc55c6f",
   "metadata": {},
   "outputs": [
    {
     "data": {
      "text/plain": [
       "<matplotlib.legend.Legend at 0x7faa09b33b20>"
      ]
     },
     "execution_count": 15,
     "metadata": {},
     "output_type": "execute_result"
    },
    {
     "data": {
      "image/png": "[encoded data removed]",
      "text/plain": [
       "<Figure size 432x288 with 6 Axes>"
      ]
     },
     "metadata": {
      "needs_background": "light"
     },
     "output_type": "display_data"
    }
   ],
   "source": [
    "fig, ax = plt.subplots(2, 3)\n",
    "\n",
    "long = df[[\"class\", \"age\"]].groupby([\"age\", \"class\"]).size().reset_index(name=\"count\").pivot(index=\"age\", columns=\"class\", values=\"count\")\n",
    "long[\"total\"] = long.sum(axis=1)\n",
    "long[\"no-recurrence-events\"] = long[\"no-recurrence-events\"] / long[\"total\"]\n",
    "long[\"recurrence-events\"] = long[\"recurrence-events\"] / long[\"total\"]\n",
    "long.drop(\"total\", axis=1, inplace=True)\n",
    "long.plot(kind=\"bar\", stacked=True, ax=ax[0,0])\n",
    "ax[0,0].set_xlabel(\"age\")\n",
    "ax[0,0].get_legend().remove()\n",
    "\n",
    "long = df[[\"class\", \"menopause\"]].groupby([\"menopause\", \"class\"]).size().reset_index(name=\"count\").pivot(index=\"menopause\", columns=\"class\", values=\"count\")\n",
    "long[\"total\"] = long.sum(axis=1)\n",
    "long[\"no-recurrence-events\"] = long[\"no-recurrence-events\"] / long[\"total\"]\n",
    "long[\"recurrence-events\"] = long[\"recurrence-events\"] / long[\"total\"]\n",
    "long.drop(\"total\", axis=1, inplace=True)\n",
    "long.plot(kind=\"bar\", stacked=True, rot=0, ax=ax[0,1])\n",
    "ax[0,1].set_xlabel(\"menopause\")\n",
    "ax[0,1].get_legend().remove()\n",
    "\n",
    "long = df[[\"class\", \"tumor_size\"]].groupby([\"tumor_size\", \"class\"]).size().reset_index(name=\"count\").pivot(index=\"tumor_size\", columns=\"class\", values=\"count\")\n",
    "long[\"total\"] = long.sum(axis=1)\n",
    "long[\"no-recurrence-events\"] = long[\"no-recurrence-events\"] / long[\"total\"]\n",
    "long[\"recurrence-events\"] = long[\"recurrence-events\"] / long[\"total\"]\n",
    "long.drop(\"total\", axis=1, inplace=True)\n",
    "order = [\"0-4\", \"5-9\", \"10-14\", \"15-19\", \"20-24\", \"25-29\", \"30-34\", \"35-39\", \"40-44\", \"45-49\", \"50-54\"]\n",
    "long.loc[order].plot(kind=\"bar\", stacked=True, ax=ax[0,2])\n",
    "ax[0,2].set_xlabel(\"tumor size\")\n",
    "ax[0,2].get_legend().remove()\n",
    "\n",
    "long = df[[\"class\", \"breast\"]].groupby([\"breast\", \"class\"]).size().reset_index(name=\"count\").pivot(index=\"breast\", columns=\"class\", values=\"count\")\n",
    "long[\"total\"] = long.sum(axis=1)\n",
    "long[\"no-recurrence-events\"] = long[\"no-recurrence-events\"] / long[\"total\"]\n",
    "long[\"recurrence-events\"] = long[\"recurrence-events\"] / long[\"total\"]\n",
    "long.drop(\"total\", axis=1, inplace=True)\n",
    "long.plot(kind=\"bar\", stacked=True, rot=0, ax=ax[1,0])\n",
    "ax[1,0].set_xlabel(\"breast\")\n",
    "ax[1,0].get_legend().remove()\n",
    "\n",
    "long = df[[\"class\", \"breast_quad\"]].groupby([\"breast_quad\", \"class\"]).size().reset_index(name=\"count\").pivot(index=\"breast_quad\", columns=\"class\", values=\"count\")\n",
    "long[\"total\"] = long.sum(axis=1)\n",
    "long[\"no-recurrence-events\"] = long[\"no-recurrence-events\"] / long[\"total\"]\n",
    "long[\"recurrence-events\"] = long[\"recurrence-events\"] / long[\"total\"]\n",
    "long.drop(\"total\", axis=1, inplace=True)\n",
    "long.plot(kind=\"bar\", stacked=True, ax=ax[1,1])\n",
    "ax[1,1].set_xlabel(\"breast quad\")\n",
    "ax[1,1].get_legend().remove()\n",
    "\n",
    "long = df[[\"class\", \"deg_malig\"]].groupby([\"deg_malig\", \"class\"]).size().reset_index(name=\"count\").pivot(index=\"deg_malig\", columns=\"class\", values=\"count\")\n",
    "long[\"total\"] = long.sum(axis=1)\n",
    "long[\"no-recurrence-events\"] = long[\"no-recurrence-events\"] / long[\"total\"]\n",
    "long[\"recurrence-events\"] = long[\"recurrence-events\"] / long[\"total\"]\n",
    "long.drop(\"total\", axis=1, inplace=True)\n",
    "long.plot(kind=\"bar\", stacked=True, rot=0, ax=ax[1,2])\n",
    "ax[1,2].set_xlabel(\"deg_malig\")\n",
    "ax[1,2].get_legend().remove()\n",
    "handles, labels = ax[1,2].get_legend_handles_labels()\n",
    "fig.legend(handles, labels, loc=\"upper center\", ncol=2)"
   ]
  },
  {
   "cell_type": "markdown",
   "id": "7e0a7e22",
   "metadata": {},
   "source": [
    "Looking at the figure above, it would be prudent to perform chi2 tests on each of the variables to measure the significance level of the results. First we convert the variables from type object to type categorical:"
   ]
  },
  {
   "cell_type": "code",
   "execution_count": 16,
   "id": "37ff777f",
   "metadata": {},
   "outputs": [],
   "source": [
    "df[df.select_dtypes(\"object\").columns] = df.select_dtypes(\"object\").astype(\"category\")"
   ]
  },
  {
   "cell_type": "markdown",
   "id": "b179380e",
   "metadata": {},
   "source": [
    "# Bivariate analysis\n",
    "\n",
    "Now perform the chi2 test on the categorical columns:"
   ]
  },
  {
   "cell_type": "code",
   "execution_count": 17,
   "id": "81219555",
   "metadata": {},
   "outputs": [
    {
     "data": {
      "text/html": [
       "<div>\n",
       "<style scoped>\n",
       "    .dataframe tbody tr th:only-of-type {\n",
       "        vertical-align: middle;\n",
       "    }\n",
       "\n",
       "    .dataframe tbody tr th {\n",
       "        vertical-align: top;\n",
       "    }\n",
       "\n",
       "    .dataframe thead th {\n",
       "        text-align: right;\n",
       "    }\n",
       "</style>\n",
       "<table border=\"1\" class=\"dataframe\">\n",
       "  <thead>\n",
       "    <tr style=\"text-align: right;\">\n",
       "      <th></th>\n",
       "      <th>variable</th>\n",
       "      <th>p-value</th>\n",
       "      <th>significance</th>\n",
       "    </tr>\n",
       "  </thead>\n",
       "  <tbody>\n",
       "    <tr>\n",
       "      <th>4</th>\n",
       "      <td>node_caps</td>\n",
       "      <td>0.000003</td>\n",
       "      <td>***</td>\n",
       "    </tr>\n",
       "    <tr>\n",
       "      <th>3</th>\n",
       "      <td>inv_nodes</td>\n",
       "      <td>0.000008</td>\n",
       "      <td>***</td>\n",
       "    </tr>\n",
       "    <tr>\n",
       "      <th>7</th>\n",
       "      <td>irradiat</td>\n",
       "      <td>0.000314</td>\n",
       "      <td>***</td>\n",
       "    </tr>\n",
       "    <tr>\n",
       "      <th>2</th>\n",
       "      <td>tumor_size</td>\n",
       "      <td>0.040259</td>\n",
       "      <td>*</td>\n",
       "    </tr>\n",
       "    <tr>\n",
       "      <th>1</th>\n",
       "      <td>menopause</td>\n",
       "      <td>0.217753</td>\n",
       "      <td></td>\n",
       "    </tr>\n",
       "    <tr>\n",
       "      <th>0</th>\n",
       "      <td>age</td>\n",
       "      <td>0.267487</td>\n",
       "      <td></td>\n",
       "    </tr>\n",
       "    <tr>\n",
       "      <th>6</th>\n",
       "      <td>breast_quad</td>\n",
       "      <td>0.507302</td>\n",
       "      <td></td>\n",
       "    </tr>\n",
       "    <tr>\n",
       "      <th>5</th>\n",
       "      <td>breast</td>\n",
       "      <td>0.578759</td>\n",
       "      <td></td>\n",
       "    </tr>\n",
       "  </tbody>\n",
       "</table>\n",
       "</div>"
      ],
      "text/plain": [
       "      variable   p-value significance\n",
       "4    node_caps  0.000003          ***\n",
       "3    inv_nodes  0.000008          ***\n",
       "7     irradiat  0.000314          ***\n",
       "2   tumor_size  0.040259            *\n",
       "1    menopause  0.217753             \n",
       "0          age  0.267487             \n",
       "6  breast_quad  0.507302             \n",
       "5       breast  0.578759             "
      ]
     },
     "execution_count": 17,
     "metadata": {},
     "output_type": "execute_result"
    }
   ],
   "source": [
    "# perform chi2 tests\n",
    "# get categorical columns\n",
    "categorical = df[df.select_dtypes(\"category\").columns]\n",
    "# remove the class column\n",
    "categorical = categorical.loc[:, categorical.columns != \"class\"]\n",
    "# now loop and perform chi2 test and save results\n",
    "chi2_results = pd.DataFrame({\"variable\": object(), \"p-value\": float(), \"significance\": object()}, index=[])\n",
    "for column in categorical.columns:\n",
    "    crosstab = pd.crosstab(df[\"class\"], df[column])\n",
    "    chi2, p, dof, expected = stats.chi2_contingency(crosstab)\n",
    "    if p < 0.001:\n",
    "        stars = \"***\"\n",
    "    elif p < 0.01:\n",
    "        stars = \"**\"\n",
    "    elif p < 0.05:\n",
    "        stars = \"*\"\n",
    "    elif p>= 0.05:\n",
    "        stars = \"\"\n",
    "    chi2_results = chi2_results.append({\"variable\": column, \"p-value\": p, \"significance\": stars}, ignore_index=True)\n",
    "chi2_results.sort_values(\"p-value\")"
   ]
  },
  {
   "cell_type": "markdown",
   "id": "48d6b2f7",
   "metadata": {},
   "source": [
    "Now perform ttest on the single numeric variable that we have:"
   ]
  },
  {
   "cell_type": "code",
   "execution_count": 18,
   "id": "02576ee2",
   "metadata": {},
   "outputs": [
    {
     "name": "stdout",
     "output_type": "stream",
     "text": [
      "1.7978288102227966e-08 ***\n"
     ]
    }
   ],
   "source": [
    "col1 = df[df[\"class\"] == \"no-recurrence-events\"]\n",
    "col2 = df[df[\"class\"] == \"recurrence-events\"]\n",
    "t, p = stats.ttest_ind(col1[\"deg_malig\"], col2[\"deg_malig\"])\n",
    "if p < 0.001:\n",
    "    print(p, \"***\")\n",
    "elif p < 0.01:\n",
    "    print(p, \"**\")\n",
    "elif p < 0.05:\n",
    "    print(p, \"*\")\n",
    "elif p >= 0.05:\n",
    "    print(p)"
   ]
  },
  {
   "cell_type": "markdown",
   "id": "5947c379",
   "metadata": {},
   "source": [
    "# Machine learning\n",
    "\n",
    "## Encoding the categorical variables\n",
    "\n",
    "Many of the categories have a natural order. We reorder so that this natural order is maintained the three columns are age, tumor_size, and inv_nodes:"
   ]
  },
  {
   "cell_type": "code",
   "execution_count": 19,
   "id": "153b0b11",
   "metadata": {},
   "outputs": [],
   "source": [
    "lb_age = LabelEncoder()\n",
    "lb_age.fit([\"20-29\", \"30-39\", \"40-49\", \"50-59\", \"60-69\", \"70-79\"])\n",
    "df[\"age\"] = lb_age.transform(df[\"age\"])\n",
    "\n",
    "lb_tumor = LabelEncoder()\n",
    "lb_tumor.fit([\"0-4\", \"5-9\", \"10-14\", \"15-19\", \"20-24\", \"25-29\", \"30-34\", \"35-39\", \"40-44\", \"45-49\", \"50-54\"])\n",
    "df[\"tumor_size\"] = lb_tumor.transform(df[\"tumor_size\"])\n",
    "\n",
    "lb_nodes = LabelEncoder()\n",
    "lb_nodes.fit([\"0-2\", \"3-5\", \"6-8\", \"9-11\", \"12-14\", \"15-17\", \"24-26\"])\n",
    "df[\"inv_nodes\"] = lb_nodes.transform(df[\"inv_nodes\"])"
   ]
  },
  {
   "cell_type": "markdown",
   "id": "8f09f48e",
   "metadata": {},
   "source": [
    "Now we look at the other columns to make sure that everything looks alright:"
   ]
  },
  {
   "cell_type": "code",
   "execution_count": 20,
   "id": "b5aebbd6",
   "metadata": {},
   "outputs": [],
   "source": [
    "df[\"class\"].value_counts()\n",
    "# let us convert this to factors where 1 means recurrence and 0 means no-recurrence\n",
    "lb_class = LabelEncoder()\n",
    "lb_class.fit([\"no-recurrence-events\", \"recurrence-events\"])\n",
    "df[\"class\"] = lb_class.transform(df[\"class\"])\n",
    "\n",
    "df[\"menopause\"].value_counts()\n",
    "# Since there are three classes and order is not important, we will use hot coding\n",
    "hot = pd.get_dummies(df[\"menopause\"], prefix=\"menopause\")\n",
    "# merge into data set\n",
    "df = df.join(hot)\n",
    "\n",
    "df[\"node_caps\"].value_counts()\n",
    "# now we just convert these columns to factors without thinking of the order since there is no order.\n",
    "# use binary since there are only two possible values\n",
    "df[\"node_caps\"] = df[\"node_caps\"].cat.codes\n",
    "df[\"breast\"].value_counts()\n",
    "df[\"breast\"] = df[\"breast\"].cat.codes\n",
    "df[\"irradiat\"].value_counts()\n",
    "df[\"irradiat\"] = df[\"irradiat\"].cat.codes\n",
    "df[\"breast_quad\"].value_counts()\n",
    "# use hot coding since there are more than two classes\n",
    "hot = pd.get_dummies(df[\"breast_quad\"], prefix=\"breast_quad\")\n",
    "df = df.join(hot)"
   ]
  },
  {
   "cell_type": "markdown",
   "id": "7fa392ce",
   "metadata": {},
   "source": [
    "## Splitting the data set into train and test sets\n",
    "\n",
    "We now split the data in preparation of running the ML algorithms:"
   ]
  },
  {
   "cell_type": "code",
   "execution_count": 21,
   "id": "40b50dca",
   "metadata": {},
   "outputs": [],
   "source": [
    "# split data set\n",
    "x = df[[\"age\", \"tumor_size\", \"inv_nodes\", \"node_caps\", \"deg_malig\", \"menopause_ge40\", \"menopause_lt40\",\n",
    "        \"menopause_premeno\", \"breast_quad_central\", \"breast_quad_left_low\", \"breast_quad_left_up\",\n",
    "        \"breast_quad_right_low\", \"breast_quad_right_up\", \"irradiat\"]]\n",
    "y = df[\"class\"]\n",
    "x_train, x_test, y_train, y_test = train_test_split(x, y, test_size=0.5, random_state=8)"
   ]
  },
  {
   "cell_type": "markdown",
   "id": "a12a0548",
   "metadata": {},
   "source": [
    "Create data frame to save results:"
   ]
  },
  {
   "cell_type": "code",
   "execution_count": 22,
   "id": "293e92eb",
   "metadata": {},
   "outputs": [],
   "source": [
    "results = pd.DataFrame({\"model\": object(), \"accuracy\": float(), \"f1\": float()}, index=[])"
   ]
  },
  {
   "cell_type": "markdown",
   "id": "f2f7ab30",
   "metadata": {},
   "source": [
    "## KNN"
   ]
  },
  {
   "cell_type": "code",
   "execution_count": 23,
   "id": "a4d6c84e",
   "metadata": {},
   "outputs": [
    {
     "data": {
      "text/html": [
       "<div>\n",
       "<style scoped>\n",
       "    .dataframe tbody tr th:only-of-type {\n",
       "        vertical-align: middle;\n",
       "    }\n",
       "\n",
       "    .dataframe tbody tr th {\n",
       "        vertical-align: top;\n",
       "    }\n",
       "\n",
       "    .dataframe thead th {\n",
       "        text-align: right;\n",
       "    }\n",
       "</style>\n",
       "<table border=\"1\" class=\"dataframe\">\n",
       "  <thead>\n",
       "    <tr style=\"text-align: right;\">\n",
       "      <th></th>\n",
       "      <th>model</th>\n",
       "      <th>accuracy</th>\n",
       "      <th>f1</th>\n",
       "    </tr>\n",
       "  </thead>\n",
       "  <tbody>\n",
       "    <tr>\n",
       "      <th>0</th>\n",
       "      <td>knn</td>\n",
       "      <td>0.683453</td>\n",
       "      <td>0.435897</td>\n",
       "    </tr>\n",
       "  </tbody>\n",
       "</table>\n",
       "</div>"
      ],
      "text/plain": [
       "  model  accuracy        f1\n",
       "0   knn  0.683453  0.435897"
      ]
     },
     "execution_count": 23,
     "metadata": {},
     "output_type": "execute_result"
    }
   ],
   "source": [
    "#define the parameters\n",
    "leaf_size = list(range(1, 10))\n",
    "n_neighbors = list(range(1, 10))\n",
    "p = [1,2]\n",
    "parameters = dict(leaf_size=leaf_size, n_neighbors=n_neighbors, p=p)\n",
    "neigh = KNeighborsClassifier()\n",
    "#define the grid search\n",
    "neigh_grid = GridSearchCV(neigh, parameters, cv=10, scoring=\"f1\")\n",
    "# find the best fit model\n",
    "neigh_best = neigh_grid.fit(x_train, y_train)\n",
    "# get the parameters of the best fit model\n",
    "parameters_best = neigh_best.best_estimator_.get_params()\n",
    "# fit the best fit model\n",
    "neigh = KNeighborsClassifier(n_neighbors=parameters_best[\"n_neighbors\"],\n",
    "                             leaf_size=parameters_best[\"leaf_size\"],\n",
    "                             p=parameters_best[\"p\"])\n",
    "neigh.fit(x_train, y_train)\n",
    "# get the predicted values\n",
    "yhat_neigh = neigh.predict(x_test)\n",
    "results = results.append({\"model\": \"knn\", \"accuracy\": metrics.accuracy_score(y_test, yhat_neigh), \"f1\": metrics.f1_score(y_test, yhat_neigh)}, ignore_index=True)\n",
    "results"
   ]
  },
  {
   "cell_type": "markdown",
   "id": "d9c4bb95",
   "metadata": {},
   "source": [
    "## Decision tree"
   ]
  },
  {
   "cell_type": "code",
   "execution_count": 24,
   "id": "bd31760b",
   "metadata": {},
   "outputs": [
    {
     "data": {
      "text/html": [
       "<div>\n",
       "<style scoped>\n",
       "    .dataframe tbody tr th:only-of-type {\n",
       "        vertical-align: middle;\n",
       "    }\n",
       "\n",
       "    .dataframe tbody tr th {\n",
       "        vertical-align: top;\n",
       "    }\n",
       "\n",
       "    .dataframe thead th {\n",
       "        text-align: right;\n",
       "    }\n",
       "</style>\n",
       "<table border=\"1\" class=\"dataframe\">\n",
       "  <thead>\n",
       "    <tr style=\"text-align: right;\">\n",
       "      <th></th>\n",
       "      <th>model</th>\n",
       "      <th>accuracy</th>\n",
       "      <th>f1</th>\n",
       "    </tr>\n",
       "  </thead>\n",
       "  <tbody>\n",
       "    <tr>\n",
       "      <th>0</th>\n",
       "      <td>knn</td>\n",
       "      <td>0.683453</td>\n",
       "      <td>0.435897</td>\n",
       "    </tr>\n",
       "    <tr>\n",
       "      <th>1</th>\n",
       "      <td>tree</td>\n",
       "      <td>0.669065</td>\n",
       "      <td>0.410256</td>\n",
       "    </tr>\n",
       "  </tbody>\n",
       "</table>\n",
       "</div>"
      ],
      "text/plain": [
       "  model  accuracy        f1\n",
       "0   knn  0.683453  0.435897\n",
       "1  tree  0.669065  0.410256"
      ]
     },
     "execution_count": 24,
     "metadata": {},
     "output_type": "execute_result"
    }
   ],
   "source": [
    "# define the parameters\n",
    "max_depth = list(range(1, 10))\n",
    "min_samples_split = list(range(2, 10))\n",
    "min_samples_leaf = list(range(1, 5))\n",
    "parameters = dict(max_depth=max_depth, min_samples_split=min_samples_split, min_samples_leaf=min_samples_leaf)\n",
    "tree = DecisionTreeClassifier()\n",
    "# define the grid search\n",
    "tree_grid = GridSearchCV(tree, parameters, cv=10, scoring=\"f1\")\n",
    "# find the best fit model\n",
    "tree_best = tree_grid.fit(x_train, y_train)\n",
    "# get the parameters of the best fit model\n",
    "parameters_best = tree_best.best_estimator_.get_params()\n",
    "# fit the best model\n",
    "tree = DecisionTreeClassifier(max_depth=parameters_best[\"max_depth\"],\n",
    "                              min_samples_split=parameters_best[\"min_samples_split\"],\n",
    "                              min_samples_leaf=parameters_best[\"min_samples_leaf\"])\n",
    "tree.fit(x_train, y_train)\n",
    "yhat_tree = tree.predict(x_test)\n",
    "results = results.append({\"model\": \"tree\", \"accuracy\": metrics.accuracy_score(y_test, yhat_tree), \"f1\": metrics.f1_score(y_test, yhat_tree)}, ignore_index=True)\n",
    "results"
   ]
  },
  {
   "cell_type": "markdown",
   "id": "7c7bee17",
   "metadata": {},
   "source": [
    "## Logistic regression"
   ]
  },
  {
   "cell_type": "code",
   "execution_count": 25,
   "id": "526833f7",
   "metadata": {},
   "outputs": [
    {
     "data": {
      "text/html": [
       "<div>\n",
       "<style scoped>\n",
       "    .dataframe tbody tr th:only-of-type {\n",
       "        vertical-align: middle;\n",
       "    }\n",
       "\n",
       "    .dataframe tbody tr th {\n",
       "        vertical-align: top;\n",
       "    }\n",
       "\n",
       "    .dataframe thead th {\n",
       "        text-align: right;\n",
       "    }\n",
       "</style>\n",
       "<table border=\"1\" class=\"dataframe\">\n",
       "  <thead>\n",
       "    <tr style=\"text-align: right;\">\n",
       "      <th></th>\n",
       "      <th>model</th>\n",
       "      <th>accuracy</th>\n",
       "      <th>f1</th>\n",
       "    </tr>\n",
       "  </thead>\n",
       "  <tbody>\n",
       "    <tr>\n",
       "      <th>0</th>\n",
       "      <td>knn</td>\n",
       "      <td>0.683453</td>\n",
       "      <td>0.435897</td>\n",
       "    </tr>\n",
       "    <tr>\n",
       "      <th>1</th>\n",
       "      <td>tree</td>\n",
       "      <td>0.669065</td>\n",
       "      <td>0.410256</td>\n",
       "    </tr>\n",
       "    <tr>\n",
       "      <th>2</th>\n",
       "      <td>logistic</td>\n",
       "      <td>0.741007</td>\n",
       "      <td>0.500000</td>\n",
       "    </tr>\n",
       "  </tbody>\n",
       "</table>\n",
       "</div>"
      ],
      "text/plain": [
       "      model  accuracy        f1\n",
       "0       knn  0.683453  0.435897\n",
       "1      tree  0.669065  0.410256\n",
       "2  logistic  0.741007  0.500000"
      ]
     },
     "execution_count": 25,
     "metadata": {},
     "output_type": "execute_result"
    }
   ],
   "source": [
    "# define parameters\n",
    "c = [0.001, 0.01, 0.1, 1, 10, 100, 1000]\n",
    "parameters = dict(C=c)\n",
    "lr = LogisticRegression(max_iter=500)\n",
    "# define the grid search\n",
    "log_grid = GridSearchCV(lr, parameters, cv=10, scoring=\"f1\")\n",
    "# get the best fit model\n",
    "log_best = log_grid.fit(x_train, y_train)\n",
    "# get the parameters of the best fit model\n",
    "parameters_best = log_best.best_estimator_.get_params()\n",
    "# fit the best model\n",
    "lr = LogisticRegression(C=parameters_best[\"C\"], max_iter=500)\n",
    "lr.fit(x_train, y_train)\n",
    "yhat_log = lr.predict(x_test)\n",
    "results = results.append({\"model\": \"logistic\", \"accuracy\": metrics.accuracy_score(y_test, yhat_log), \"f1\": metrics.f1_score(y_test, yhat_log)}, ignore_index=True)\n",
    "results"
   ]
  },
  {
   "cell_type": "markdown",
   "id": "84e88ead",
   "metadata": {},
   "source": [
    "## SVC"
   ]
  },
  {
   "cell_type": "code",
   "execution_count": 26,
   "id": "8d5484f8",
   "metadata": {},
   "outputs": [
    {
     "data": {
      "text/html": [
       "<div>\n",
       "<style scoped>\n",
       "    .dataframe tbody tr th:only-of-type {\n",
       "        vertical-align: middle;\n",
       "    }\n",
       "\n",
       "    .dataframe tbody tr th {\n",
       "        vertical-align: top;\n",
       "    }\n",
       "\n",
       "    .dataframe thead th {\n",
       "        text-align: right;\n",
       "    }\n",
       "</style>\n",
       "<table border=\"1\" class=\"dataframe\">\n",
       "  <thead>\n",
       "    <tr style=\"text-align: right;\">\n",
       "      <th></th>\n",
       "      <th>model</th>\n",
       "      <th>accuracy</th>\n",
       "      <th>f1</th>\n",
       "    </tr>\n",
       "  </thead>\n",
       "  <tbody>\n",
       "    <tr>\n",
       "      <th>0</th>\n",
       "      <td>knn</td>\n",
       "      <td>0.683453</td>\n",
       "      <td>0.435897</td>\n",
       "    </tr>\n",
       "    <tr>\n",
       "      <th>1</th>\n",
       "      <td>tree</td>\n",
       "      <td>0.669065</td>\n",
       "      <td>0.410256</td>\n",
       "    </tr>\n",
       "    <tr>\n",
       "      <th>2</th>\n",
       "      <td>logistic</td>\n",
       "      <td>0.741007</td>\n",
       "      <td>0.500000</td>\n",
       "    </tr>\n",
       "    <tr>\n",
       "      <th>3</th>\n",
       "      <td>SVM</td>\n",
       "      <td>0.604317</td>\n",
       "      <td>0.352941</td>\n",
       "    </tr>\n",
       "  </tbody>\n",
       "</table>\n",
       "</div>"
      ],
      "text/plain": [
       "      model  accuracy        f1\n",
       "0       knn  0.683453  0.435897\n",
       "1      tree  0.669065  0.410256\n",
       "2  logistic  0.741007  0.500000\n",
       "3       SVM  0.604317  0.352941"
      ]
     },
     "execution_count": 26,
     "metadata": {},
     "output_type": "execute_result"
    }
   ],
   "source": [
    "# define the parameters\n",
    "kernel = ['poly', 'rbf', 'sigmoid', 'linear']\n",
    "c = [0.001, 0.01, 0.1, 1, 10, 100, 1000]\n",
    "parameters = dict(kernel=kernel, C=c)\n",
    "sv =svm.SVC()\n",
    "# define the grid search\n",
    "sv_grid = GridSearchCV(sv, parameters, cv=10, scoring=\"f1\")\n",
    "# get the best fit model\n",
    "sv_best = sv_grid.fit(x_train, y_train)\n",
    "# get the parameters of the best fit model\n",
    "parameters_best = sv_best.best_estimator_.get_params()\n",
    "# fit the best model\n",
    "sv = svm.SVC(C=parameters_best[\"C\"], kernel=parameters_best[\"kernel\"])\n",
    "sv.fit(x_train, y_train)\n",
    "yhat_svm = sv.predict(x_test)\n",
    "results = results.append({\"model\": \"SVM\", \"accuracy\": metrics.accuracy_score(y_test, yhat_svm), \"f1\": metrics.f1_score(y_test, yhat_svm)}, ignore_index=True)\n",
    "results"
   ]
  },
  {
   "cell_type": "markdown",
   "id": "2e15a519",
   "metadata": {},
   "source": [
    "## Random forest"
   ]
  },
  {
   "cell_type": "code",
   "execution_count": 27,
   "id": "611788c1",
   "metadata": {},
   "outputs": [
    {
     "data": {
      "text/html": [
       "<div>\n",
       "<style scoped>\n",
       "    .dataframe tbody tr th:only-of-type {\n",
       "        vertical-align: middle;\n",
       "    }\n",
       "\n",
       "    .dataframe tbody tr th {\n",
       "        vertical-align: top;\n",
       "    }\n",
       "\n",
       "    .dataframe thead th {\n",
       "        text-align: right;\n",
       "    }\n",
       "</style>\n",
       "<table border=\"1\" class=\"dataframe\">\n",
       "  <thead>\n",
       "    <tr style=\"text-align: right;\">\n",
       "      <th></th>\n",
       "      <th>model</th>\n",
       "      <th>accuracy</th>\n",
       "      <th>f1</th>\n",
       "    </tr>\n",
       "  </thead>\n",
       "  <tbody>\n",
       "    <tr>\n",
       "      <th>0</th>\n",
       "      <td>knn</td>\n",
       "      <td>0.683453</td>\n",
       "      <td>0.435897</td>\n",
       "    </tr>\n",
       "    <tr>\n",
       "      <th>1</th>\n",
       "      <td>tree</td>\n",
       "      <td>0.669065</td>\n",
       "      <td>0.410256</td>\n",
       "    </tr>\n",
       "    <tr>\n",
       "      <th>2</th>\n",
       "      <td>logistic</td>\n",
       "      <td>0.741007</td>\n",
       "      <td>0.500000</td>\n",
       "    </tr>\n",
       "    <tr>\n",
       "      <th>3</th>\n",
       "      <td>SVM</td>\n",
       "      <td>0.604317</td>\n",
       "      <td>0.352941</td>\n",
       "    </tr>\n",
       "    <tr>\n",
       "      <th>4</th>\n",
       "      <td>Random forest</td>\n",
       "      <td>0.712230</td>\n",
       "      <td>0.444444</td>\n",
       "    </tr>\n",
       "  </tbody>\n",
       "</table>\n",
       "</div>"
      ],
      "text/plain": [
       "           model  accuracy        f1\n",
       "0            knn  0.683453  0.435897\n",
       "1           tree  0.669065  0.410256\n",
       "2       logistic  0.741007  0.500000\n",
       "3            SVM  0.604317  0.352941\n",
       "4  Random forest  0.712230  0.444444"
      ]
     },
     "execution_count": 27,
     "metadata": {},
     "output_type": "execute_result"
    }
   ],
   "source": [
    "# define the parameters\n",
    "max_depth = [int(x) for x in np.linspace(1, 50, 10)]\n",
    "max_features = [int(x) for x in np.linspace(1, 10, 2)]\n",
    "n_estimators = [int(x) for x in np.linspace(1, 100, 10)]\n",
    "parameters = dict(max_depth=max_depth, max_features=max_features, n_estimators=n_estimators)\n",
    "forest = RandomForestClassifier()\n",
    "# define the grid search\n",
    "forest_grid = GridSearchCV(forest, parameters, cv=10, scoring=\"f1\")\n",
    "# get the best fit model\n",
    "forest_best = forest_grid.fit(x_train, y_train)\n",
    "# get the parameters of the best model\n",
    "parameters_best = forest_best.best_estimator_.get_params()\n",
    "# fit the model with the best parameters\n",
    "forest = RandomForestClassifier()\n",
    "forest.fit(x_train, y_train)\n",
    "yhat_forest = forest.predict(x_test)\n",
    "results = results.append({\"model\": \"Random forest\", \"accuracy\": metrics.accuracy_score(y_test, yhat_forest), \"f1\": metrics.f1_score(y_test, yhat_forest)}, ignore_index=True)\n",
    "results"
   ]
  },
  {
   "cell_type": "code",
   "execution_count": 28,
   "id": "c699954e",
   "metadata": {},
   "outputs": [
    {
     "data": {
      "text/plain": [
       "<matplotlib.legend.Legend at 0x7faa09ea51c0>"
      ]
     },
     "execution_count": 28,
     "metadata": {},
     "output_type": "execute_result"
    },
    {
     "data": {
      "image/png": "[encoded data removed]",
      "text/plain": [
       "<Figure size 432x288 with 1 Axes>"
      ]
     },
     "metadata": {
      "needs_background": "light"
     },
     "output_type": "display_data"
    }
   ],
   "source": [
    "plt.plot(results[\"model\"], results[\"accuracy\"], '-o', label=\"accuracy\")\n",
    "plt.plot(results[\"model\"], results[\"f1\"], '-o', label=\"f1 score\")\n",
    "plt.legend()"
   ]
  }
 ],
 "metadata": {
  "kernelspec": {
   "display_name": "Python 3",
   "language": "python",
   "name": "python3"
  },
  "language_info": {
   "codemirror_mode": {
    "name": "ipython",
    "version": 3
   },
   "file_extension": ".py",
   "mimetype": "text/x-python",
   "name": "python",
   "nbconvert_exporter": "python",
   "pygments_lexer": "ipython3",
   "version": "3.8.8"
  }
 },
 "nbformat": 4,
 "nbformat_minor": 5
}
